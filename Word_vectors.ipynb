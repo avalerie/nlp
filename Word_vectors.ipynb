{
  "nbformat": 4,
  "nbformat_minor": 0,
  "metadata": {
    "colab": {
      "name": "Word vectors.ipynb",
      "version": "0.3.2",
      "provenance": [],
      "collapsed_sections": [],
      "toc_visible": true,
      "include_colab_link": true
    },
    "kernelspec": {
      "name": "python3",
      "display_name": "Python 3"
    }
  },
  "cells": [
    {
      "cell_type": "markdown",
      "metadata": {
        "id": "view-in-github",
        "colab_type": "text"
      },
      "source": [
        "[View in Colaboratory](https://colab.research.google.com/github/avalerie/nlp/blob/master/Word_vectors.ipynb)"
      ]
    },
    {
      "metadata": {
        "id": "to13AiYUsTq6",
        "colab_type": "code",
        "colab": {}
      },
      "cell_type": "code",
      "source": [
        "import pandas as pd\n",
        "import numpy as np\n",
        "import warnings; warnings.simplefilter('ignore')"
      ],
      "execution_count": 0,
      "outputs": []
    },
    {
      "metadata": {
        "colab_type": "text",
        "id": "TtgTPZUXH-7O"
      },
      "cell_type": "markdown",
      "source": [
        "Download Glove pre-trained word-vectors (glove.6B.50d.txt) and save on Google Colab. \n",
        "\n",
        "There are [various methods](https://colab.research.google.com/notebooks/io.ipynb) of loading data into Colab.\n",
        "\n",
        "-> From local drive. The file is stored in Colab session space and removed with the session end. Files can be viewed in menu \"Files\".  To operate files, use the commands:\n",
        "\n",
        " `!rm file_name # to remove file;`\n",
        "`!mv file_name_A file_name_B # to rename file_A to file_B` "
      ]
    },
    {
      "metadata": {
        "id": "DboPqSzTnkhy",
        "colab_type": "code",
        "colab": {}
      },
      "cell_type": "code",
      "source": [
        "# 1. Upload files from local drive to Google Drive. This function allows to select files and will display the progress bar % while uploding files\n",
        "from google.colab import files\n",
        "uploaded = files.upload() "
      ],
      "execution_count": 0,
      "outputs": []
    },
    {
      "metadata": {
        "id": "gdkqr0ZjN356",
        "colab_type": "text"
      },
      "cell_type": "markdown",
      "source": [
        "-> From Google Drive. To access files, we need to mount GD on virtual mashine. "
      ]
    },
    {
      "metadata": {
        "id": "IvYWI9VrOS4r",
        "colab_type": "code",
        "colab": {}
      },
      "cell_type": "code",
      "source": [
        "# 2. Mount Google Drive locally\n",
        "from google.colab import drive\n",
        "drive.mount(\"/content/gdrive/\")"
      ],
      "execution_count": 0,
      "outputs": []
    },
    {
      "metadata": {
        "id": "DrDifToB1ayn",
        "colab_type": "text"
      },
      "cell_type": "markdown",
      "source": [
        "Glove txt file containes 50-dimentional vectors of 400K uncased words."
      ]
    },
    {
      "metadata": {
        "id": "mfLEvq0rpQiA",
        "colab_type": "code",
        "colab": {}
      },
      "cell_type": "code",
      "source": [
        "word_vec= pd.read_table('/content/gdrive/My Drive/Glove/glove.6B.50d.txt', sep=\" \", index_col=0, header=None, quoting=csv.QUOTE_NONE)"
      ],
      "execution_count": 0,
      "outputs": []
    },
    {
      "metadata": {
        "id": "qBVOo-Wi2Fph",
        "colab_type": "code",
        "colab": {
          "base_uri": "https://localhost:8080/",
          "height": 232
        },
        "outputId": "9268e8a9-5768-4acb-b54c-81b843dfb0ca"
      },
      "cell_type": "code",
      "source": [
        "# check the shape of word vectors\n",
        "print(\"Glove word embedding file shape: \", word_vec.shape)\n",
        "\n",
        "# view fisrt vectors\n",
        "word_vec.head(3)"
      ],
      "execution_count": 15,
      "outputs": [
        {
          "output_type": "stream",
          "text": [
            "Glove word embedding file shape:  (400000, 50)\n"
          ],
          "name": "stdout"
        },
        {
          "output_type": "execute_result",
          "data": {
            "text/html": [
              "<div>\n",
              "<style scoped>\n",
              "    .dataframe tbody tr th:only-of-type {\n",
              "        vertical-align: middle;\n",
              "    }\n",
              "\n",
              "    .dataframe tbody tr th {\n",
              "        vertical-align: top;\n",
              "    }\n",
              "\n",
              "    .dataframe thead th {\n",
              "        text-align: right;\n",
              "    }\n",
              "</style>\n",
              "<table border=\"1\" class=\"dataframe\">\n",
              "  <thead>\n",
              "    <tr style=\"text-align: right;\">\n",
              "      <th></th>\n",
              "      <th>1</th>\n",
              "      <th>2</th>\n",
              "      <th>3</th>\n",
              "      <th>4</th>\n",
              "      <th>5</th>\n",
              "      <th>6</th>\n",
              "      <th>7</th>\n",
              "      <th>8</th>\n",
              "      <th>9</th>\n",
              "      <th>10</th>\n",
              "      <th>...</th>\n",
              "      <th>41</th>\n",
              "      <th>42</th>\n",
              "      <th>43</th>\n",
              "      <th>44</th>\n",
              "      <th>45</th>\n",
              "      <th>46</th>\n",
              "      <th>47</th>\n",
              "      <th>48</th>\n",
              "      <th>49</th>\n",
              "      <th>50</th>\n",
              "    </tr>\n",
              "    <tr>\n",
              "      <th>0</th>\n",
              "      <th></th>\n",
              "      <th></th>\n",
              "      <th></th>\n",
              "      <th></th>\n",
              "      <th></th>\n",
              "      <th></th>\n",
              "      <th></th>\n",
              "      <th></th>\n",
              "      <th></th>\n",
              "      <th></th>\n",
              "      <th></th>\n",
              "      <th></th>\n",
              "      <th></th>\n",
              "      <th></th>\n",
              "      <th></th>\n",
              "      <th></th>\n",
              "      <th></th>\n",
              "      <th></th>\n",
              "      <th></th>\n",
              "      <th></th>\n",
              "      <th></th>\n",
              "    </tr>\n",
              "  </thead>\n",
              "  <tbody>\n",
              "    <tr>\n",
              "      <th>the</th>\n",
              "      <td>0.418000</td>\n",
              "      <td>0.24968</td>\n",
              "      <td>-0.41242</td>\n",
              "      <td>0.12170</td>\n",
              "      <td>0.34527</td>\n",
              "      <td>-0.044457</td>\n",
              "      <td>-0.49688</td>\n",
              "      <td>-0.17862</td>\n",
              "      <td>-0.00066</td>\n",
              "      <td>-0.65660</td>\n",
              "      <td>...</td>\n",
              "      <td>-0.298710</td>\n",
              "      <td>-0.157490</td>\n",
              "      <td>-0.347580</td>\n",
              "      <td>-0.045637</td>\n",
              "      <td>-0.44251</td>\n",
              "      <td>0.18785</td>\n",
              "      <td>0.002785</td>\n",
              "      <td>-0.18411</td>\n",
              "      <td>-0.115140</td>\n",
              "      <td>-0.78581</td>\n",
              "    </tr>\n",
              "    <tr>\n",
              "      <th>,</th>\n",
              "      <td>0.013441</td>\n",
              "      <td>0.23682</td>\n",
              "      <td>-0.16899</td>\n",
              "      <td>0.40951</td>\n",
              "      <td>0.63812</td>\n",
              "      <td>0.477090</td>\n",
              "      <td>-0.42852</td>\n",
              "      <td>-0.55641</td>\n",
              "      <td>-0.36400</td>\n",
              "      <td>-0.23938</td>\n",
              "      <td>...</td>\n",
              "      <td>-0.080262</td>\n",
              "      <td>0.630030</td>\n",
              "      <td>0.321110</td>\n",
              "      <td>-0.467650</td>\n",
              "      <td>0.22786</td>\n",
              "      <td>0.36034</td>\n",
              "      <td>-0.378180</td>\n",
              "      <td>-0.56657</td>\n",
              "      <td>0.044691</td>\n",
              "      <td>0.30392</td>\n",
              "    </tr>\n",
              "    <tr>\n",
              "      <th>.</th>\n",
              "      <td>0.151640</td>\n",
              "      <td>0.30177</td>\n",
              "      <td>-0.16763</td>\n",
              "      <td>0.17684</td>\n",
              "      <td>0.31719</td>\n",
              "      <td>0.339730</td>\n",
              "      <td>-0.43478</td>\n",
              "      <td>-0.31086</td>\n",
              "      <td>-0.44999</td>\n",
              "      <td>-0.29486</td>\n",
              "      <td>...</td>\n",
              "      <td>-0.000064</td>\n",
              "      <td>0.068987</td>\n",
              "      <td>0.087939</td>\n",
              "      <td>-0.102850</td>\n",
              "      <td>-0.13931</td>\n",
              "      <td>0.22314</td>\n",
              "      <td>-0.080803</td>\n",
              "      <td>-0.35652</td>\n",
              "      <td>0.016413</td>\n",
              "      <td>0.10216</td>\n",
              "    </tr>\n",
              "  </tbody>\n",
              "</table>\n",
              "<p>3 rows × 50 columns</p>\n",
              "</div>"
            ],
            "text/plain": [
              "           1        2        3        4        5         6        7        8   \\\n",
              "0                                                                               \n",
              "the  0.418000  0.24968 -0.41242  0.12170  0.34527 -0.044457 -0.49688 -0.17862   \n",
              ",    0.013441  0.23682 -0.16899  0.40951  0.63812  0.477090 -0.42852 -0.55641   \n",
              ".    0.151640  0.30177 -0.16763  0.17684  0.31719  0.339730 -0.43478 -0.31086   \n",
              "\n",
              "          9        10   ...           41        42        43        44  \\\n",
              "0                       ...                                              \n",
              "the -0.00066 -0.65660   ...    -0.298710 -0.157490 -0.347580 -0.045637   \n",
              ",   -0.36400 -0.23938   ...    -0.080262  0.630030  0.321110 -0.467650   \n",
              ".   -0.44999 -0.29486   ...    -0.000064  0.068987  0.087939 -0.102850   \n",
              "\n",
              "          45       46        47       48        49       50  \n",
              "0                                                            \n",
              "the -0.44251  0.18785  0.002785 -0.18411 -0.115140 -0.78581  \n",
              ",    0.22786  0.36034 -0.378180 -0.56657  0.044691  0.30392  \n",
              ".   -0.13931  0.22314 -0.080803 -0.35652  0.016413  0.10216  \n",
              "\n",
              "[3 rows x 50 columns]"
            ]
          },
          "metadata": {
            "tags": []
          },
          "execution_count": 15
        }
      ]
    },
    {
      "metadata": {
        "id": "bpYR6SneK9TH",
        "colab_type": "text"
      },
      "cell_type": "markdown",
      "source": [
        "###  Cosine similarity\n",
        "\n",
        "Cosine similarity reflects the degree of similariy between vectors.\n",
        "\n",
        "$$\\text{Cosine_Similarity(u, v)} = \\frac {u . v} {||u||_2 ||v||_2} = cos(\\theta) $$\n",
        "\n",
        "where $u.v$ is the dot product (or inner product) of two vectors, $||u||_2$ is the norm (or length) of the vector $u$, and $\\theta$ is the angle between $u$ and $v$. This similarity depends on the angle between $u$ and $v$. If $u$ and $v$ are very similar, their cosine similarity will be close to 1; if they are dissimilar, the cosine similarity will take a smaller value. \n",
        "\n",
        "The norm of $u$ is defined as:\n",
        "\n",
        "$$ ||u||_2 = \\sqrt{\\sum_{i=1}^{n} u_i^2}$$\n"
      ]
    },
    {
      "metadata": {
        "id": "zhN6tIJHKF9S",
        "colab_type": "code",
        "colab": {}
      },
      "cell_type": "code",
      "source": [
        "def cosine_similarity(u, v):\n",
        "    # L2 norm of u and v\n",
        "    norm_u = np.sqrt(np.sum(u**2))\n",
        "    norm_v = np.sqrt(np.sum(v**2))\n",
        "    # Cosine similarity\n",
        "    cosine_similarity = np.dot(u,v)/(norm_u*norm_v)\n",
        "    \n",
        "    return cosine_similarity"
      ],
      "execution_count": 0,
      "outputs": []
    },
    {
      "metadata": {
        "id": "Vux25BgWftyP",
        "colab_type": "text"
      },
      "cell_type": "markdown",
      "source": [
        "Calculate similiarity between the words using cosine_similarity function."
      ]
    },
    {
      "metadata": {
        "id": "rStiZqi3e6ds",
        "colab_type": "code",
        "colab": {
          "base_uri": "https://localhost:8080/",
          "height": 124
        },
        "outputId": "2634b222-e833-4138-8d24-a3cdcfa7b771"
      },
      "cell_type": "code",
      "source": [
        "print(\"cosine_similarity:\")\n",
        "pairs=[('father','mother'),('king','queen'), ('tree','woods'),('apple','orange'),('water','earth')]\n",
        "for i in pairs: \n",
        "  print('{:10} : {:10} = {}'.format(i[0],i[1],cosine_similarity(word_vec.loc[i[0]], word_vec.loc[i[1]])))"
      ],
      "execution_count": 34,
      "outputs": [
        {
          "output_type": "stream",
          "text": [
            "cosine_similarity:\n",
            "father     : mother     = 0.8909038442893616\n",
            "king       : queen      = 0.783904301096412\n",
            "tree       : woods      = 0.47122993590723555\n",
            "apple      : orange     = 0.5388040721946523\n",
            "water      : earth      = 0.6150415301704791\n"
          ],
          "name": "stdout"
        }
      ]
    },
    {
      "metadata": {
        "id": "--V3GsntgGiN",
        "colab_type": "text"
      },
      "cell_type": "markdown",
      "source": [
        "Find the list of the most similar words for given word \"w\". "
      ]
    },
    {
      "metadata": {
        "id": "nwE31WPLgWN8",
        "colab_type": "code",
        "colab": {}
      },
      "cell_type": "code",
      "source": [
        "def most_similar(word,word_vec):\n",
        "  # loop over all word_vec to find the word with the best cosine similarity\n",
        "  \n",
        "  max_cos_sim=-100 # initialise with negative number\n",
        "  sim_word=None\n",
        "  for w in word_vec.index:\n",
        "    cos_sim=cosine_similarity(word_vec.loc[word], word_vec.loc[w])\n",
        "    if cos_sim>max_cos_sim: \n",
        "      max_cos_sim=cos_sim\n",
        "      sim_word=w\n",
        " \n",
        "  return sim_word, cos_sim"
      ],
      "execution_count": 0,
      "outputs": []
    },
    {
      "metadata": {
        "id": "sLkX5T1WpJsc",
        "colab_type": "text"
      },
      "cell_type": "markdown",
      "source": [
        "### Operations on Glove vectors with [Gensim](https://radimrehurek.com/gensim/models/keyedvectors.html)\n",
        "\n",
        "Gensim converts Glove vestors into word2vec with *glove2word2vec* script. "
      ]
    },
    {
      "metadata": {
        "id": "Qde6S9NHn3oq",
        "colab_type": "code",
        "colab": {}
      },
      "cell_type": "code",
      "source": [
        "# istall Gensim into Colab space.\n",
        "!pip install gensim"
      ],
      "execution_count": 0,
      "outputs": []
    },
    {
      "metadata": {
        "id": "vx3l0oBEnCPB",
        "colab_type": "code",
        "colab": {}
      },
      "cell_type": "code",
      "source": [
        "from gensim.models import KeyedVectors\n",
        "from gensim.test.utils import datapath, get_tmpfile\n",
        "\n",
        "glove_file = datapath('/content/gdrive/My Drive/Glove/glove.6B.50d.txt')\n",
        "tmp_file = get_tmpfile('/content/gdrive/My Drive/Glove/word2vec.txt')"
      ],
      "execution_count": 0,
      "outputs": []
    },
    {
      "metadata": {
        "id": "i6HuzrTEswST",
        "colab_type": "code",
        "colab": {}
      },
      "cell_type": "code",
      "source": [
        "# default way (through CLI): python -m gensim.scripts.glove2word2vec --input <glove_file> --output <w2v_file>\n",
        "from gensim.scripts.glove2word2vec import glove2word2vec\n",
        "glove2word2vec(glove_file, tmp_file)\n",
        "# load the model\n",
        "model = KeyedVectors.load_word2vec_format(tmp_file)"
      ],
      "execution_count": 0,
      "outputs": []
    },
    {
      "metadata": {
        "id": "gwJBTDrvs8EU",
        "colab_type": "code",
        "colab": {
          "base_uri": "https://localhost:8080/",
          "height": 195
        },
        "outputId": "1eeb15ff-d970-4ff6-83e1-55af9f198f93"
      },
      "cell_type": "code",
      "source": [
        "# list of most similar words\n",
        "result=model.similar_by_word(\"water\")\n",
        "for i in result:\n",
        "  print(\"{:10}: {:.4f}\".format(i[0],i[1]))"
      ],
      "execution_count": 69,
      "outputs": [
        {
          "output_type": "stream",
          "text": [
            "dry       : 0.8274\n",
            "natural   : 0.7858\n",
            "sand      : 0.7737\n",
            "waste     : 0.7724\n",
            "drinking  : 0.7562\n",
            "clean     : 0.7492\n",
            "ocean     : 0.7453\n",
            "soil      : 0.7451\n",
            "sewage    : 0.7430\n",
            "seawater  : 0.7394\n"
          ],
          "name": "stdout"
        }
      ]
    },
    {
      "metadata": {
        "id": "1_wtcSvovIWl",
        "colab_type": "code",
        "colab": {
          "base_uri": "https://localhost:8080/",
          "height": 35
        },
        "outputId": "30dd1bf2-0995-4f05-80e4-3dcf97612f69"
      },
      "cell_type": "code",
      "source": [
        "model.similarity('apple', 'banana') # cosine similarity of two words"
      ],
      "execution_count": 86,
      "outputs": [
        {
          "output_type": "execute_result",
          "data": {
            "text/plain": [
              "0.5607928"
            ]
          },
          "metadata": {
            "tags": []
          },
          "execution_count": 86
        }
      ]
    },
    {
      "metadata": {
        "id": "klqTHpAp4U31",
        "colab_type": "code",
        "colab": {
          "base_uri": "https://localhost:8080/",
          "height": 35
        },
        "outputId": "43965669-bfed-49be-a937-38bc3c67af53"
      },
      "cell_type": "code",
      "source": [
        "model.distance('apple', 'banana') # = 1-similarity"
      ],
      "execution_count": 98,
      "outputs": [
        {
          "output_type": "execute_result",
          "data": {
            "text/plain": [
              "0.43920719623565674"
            ]
          },
          "metadata": {
            "tags": []
          },
          "execution_count": 98
        }
      ]
    },
    {
      "metadata": {
        "id": "Y4TCpAXxxRzb",
        "colab_type": "code",
        "colab": {
          "base_uri": "https://localhost:8080/",
          "height": 35
        },
        "outputId": "9596bc50-645d-48df-bd73-24dcf29cf8cb"
      },
      "cell_type": "code",
      "source": [
        "model.most_similar(positive=['woman', 'king'], negative=['man'])[0]"
      ],
      "execution_count": 67,
      "outputs": [
        {
          "output_type": "execute_result",
          "data": {
            "text/plain": [
              "('queen', 0.8523603677749634)"
            ]
          },
          "metadata": {
            "tags": []
          },
          "execution_count": 67
        }
      ]
    },
    {
      "metadata": {
        "id": "Sp3H4wFWxhq8",
        "colab_type": "code",
        "colab": {
          "base_uri": "https://localhost:8080/",
          "height": 35
        },
        "outputId": "597c187e-0748-43da-cf42-9f85f764d90c"
      },
      "cell_type": "code",
      "source": [
        "model.doesnt_match(\"breakfast cereal dinner lunch\".split())"
      ],
      "execution_count": 90,
      "outputs": [
        {
          "output_type": "execute_result",
          "data": {
            "text/plain": [
              "'cereal'"
            ]
          },
          "metadata": {
            "tags": []
          },
          "execution_count": 90
        }
      ]
    },
    {
      "metadata": {
        "id": "Bym5U3Sh4JgP",
        "colab_type": "code",
        "colab": {
          "base_uri": "https://localhost:8080/",
          "height": 35
        },
        "outputId": "8e5262f7-00d8-4e1e-9464-03e3248c1cde"
      },
      "cell_type": "code",
      "source": [
        "model.doesnt_match(\"Paris France Africa London\".lower().split())"
      ],
      "execution_count": 91,
      "outputs": [
        {
          "output_type": "execute_result",
          "data": {
            "text/plain": [
              "'africa'"
            ]
          },
          "metadata": {
            "tags": []
          },
          "execution_count": 91
        }
      ]
    },
    {
      "metadata": {
        "id": "xTt3Ek133iaX",
        "colab_type": "code",
        "colab": {
          "base_uri": "https://localhost:8080/",
          "height": 35
        },
        "outputId": "dd1211ec-84af-49d3-89cc-bb5a00a86fd2"
      },
      "cell_type": "code",
      "source": [
        "model.n_similarity(['sushi', 'shop'], ['japanese', 'restaurant'])"
      ],
      "execution_count": 93,
      "outputs": [
        {
          "output_type": "execute_result",
          "data": {
            "text/plain": [
              "0.74835527"
            ]
          },
          "metadata": {
            "tags": []
          },
          "execution_count": 93
        }
      ]
    }
  ]
}