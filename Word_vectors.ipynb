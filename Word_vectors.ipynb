{
  "nbformat": 4,
  "nbformat_minor": 0,
  "metadata": {
    "colab": {
      "name": "Word vectors.ipynb",
      "version": "0.3.2",
      "provenance": [],
      "include_colab_link": true
    },
    "kernelspec": {
      "name": "python3",
      "display_name": "Python 3"
    }
  },
  "cells": [
    {
      "cell_type": "markdown",
      "metadata": {
        "id": "view-in-github",
        "colab_type": "text"
      },
      "source": [
        "[View in Colaboratory](https://colab.research.google.com/github/whitestones011/nlp/blob/master/Word_vectors.ipynb)"
      ]
    },
    {
      "metadata": {
        "id": "to13AiYUsTq6",
        "colab_type": "code",
        "colab": {}
      },
      "cell_type": "code",
      "source": [
        "import pandas as pd\n",
        "import numpy as np\n",
        "import csv"
      ],
      "execution_count": 0,
      "outputs": []
    },
    {
      "metadata": {
        "id": "A01Kx9N8nPon",
        "colab_type": "text"
      },
      "cell_type": "markdown",
      "source": [
        "1. Download Glove pre-trained word-vectors (glove.6B.50d.txt) and save on Google Colab. The Glove txt file containes 50-dimentional vectors of 6B tokens (400K vocab, uncased)."
      ]
    },
    {
      "metadata": {
        "id": "DboPqSzTnkhy",
        "colab_type": "code",
        "colab": {}
      },
      "cell_type": "code",
      "source": [
        "# Upload files from local drive to Google Drive. \n",
        "# See more methods to upload/dowload data on https://colab.research.google.com/notebooks/io.ipynb#scrollTo=eikfzi8ZT_rW\n",
        "# Remove: !rm file_name\n",
        "# Rename: !mv old_file new_file\n",
        "\n",
        "from google.colab import files\n",
        "uploaded = files.upload()"
      ],
      "execution_count": 0,
      "outputs": []
    },
    {
      "metadata": {
        "id": "DrDifToB1ayn",
        "colab_type": "text"
      },
      "cell_type": "markdown",
      "source": [
        "2. Convert Glove txt file into pandas dataframe of shape (400000,50)."
      ]
    },
    {
      "metadata": {
        "id": "mfLEvq0rpQiA",
        "colab_type": "code",
        "colab": {}
      },
      "cell_type": "code",
      "source": [
        "word_vec= pd.read_table('glove.6B.50d.txt', sep=\" \", index_col=0, header=None, quoting=csv.QUOTE_NONE)"
      ],
      "execution_count": 0,
      "outputs": []
    },
    {
      "metadata": {
        "id": "qBVOo-Wi2Fph",
        "colab_type": "code",
        "colab": {}
      },
      "cell_type": "code",
      "source": [
        "# check the shape of word vectors\n",
        "word_vec.shape[0]==400000"
      ],
      "execution_count": 0,
      "outputs": []
    },
    {
      "metadata": {
        "id": "bpYR6SneK9TH",
        "colab_type": "text"
      },
      "cell_type": "markdown",
      "source": [
        "###  Cosine similarity\n",
        "\n",
        "Cosine similarity reflects the degree of similariy between vectors.\n",
        "\n",
        "$$\\text{Cosine_Similarity(u, v)} = \\frac {u . v} {||u||_2 ||v||_2} = cos(\\theta) \\tag{1}$$\n",
        "\n",
        "where $u.v$ is the dot product (or inner product) of two vectors, $||u||_2$ is the norm (or length) of the vector $u$, and $\\theta$ is the angle between $u$ and $v$. This similarity depends on the angle between $u$ and $v$. If $u$ and $v$ are very similar, their cosine similarity will be close to 1; if they are dissimilar, the cosine similarity will take a smaller value. "
      ]
    },
    {
      "metadata": {
        "id": "zhN6tIJHKF9S",
        "colab_type": "code",
        "colab": {}
      },
      "cell_type": "code",
      "source": [
        ""
      ],
      "execution_count": 0,
      "outputs": []
    }
  ]
}