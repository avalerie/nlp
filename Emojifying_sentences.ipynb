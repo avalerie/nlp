{
  "nbformat": 4,
  "nbformat_minor": 0,
  "metadata": {
    "colab": {
      "name": "Emojifying sentences.ipynb",
      "version": "0.3.2",
      "provenance": [],
      "collapsed_sections": [],
      "include_colab_link": true
    },
    "kernelspec": {
      "display_name": "Python 3",
      "language": "python",
      "name": "python3"
    }
  },
  "cells": [
    {
      "cell_type": "markdown",
      "metadata": {
        "id": "view-in-github",
        "colab_type": "text"
      },
      "source": [
        "[View in Colaboratory](https://colab.research.google.com/github/avalerie/nlp/blob/master/Emojifying_sentences.ipynb)"
      ]
    },
    {
      "metadata": {
        "id": "k_i_emom4VYm",
        "colab_type": "text"
      },
      "cell_type": "markdown",
      "source": [
        "Emojis enhance user experience in any social media appilications. [Emoji cheat sheet](https://www.webpagefx.com/tools/emoji-cheat-sheet/) includes emojies categories like People, Nature, Objects, Places and Symbols.\n",
        "\n",
        "To find how emoji looks across different devices (Android, Twitter and so on) check the [Emoji Unicode table](https://apps.timwhitlock.info/emoji/tables/unicode).\n",
        "\n",
        "Python library *[emoji](https://github.com/carpedm20/emoji/blob/master/emoji/unicode_codes.py)* allows to print unicode emoji character. "
      ]
    },
    {
      "metadata": {
        "id": "Yl1zm6nY4LZQ",
        "colab_type": "code",
        "colab": {}
      },
      "cell_type": "code",
      "source": [
        "!pip install emoji"
      ],
      "execution_count": 0,
      "outputs": []
    },
    {
      "metadata": {
        "id": "04WqqlIi8at2",
        "colab_type": "code",
        "outputId": "d4f1ac75-66f3-4d62-b4c4-388c41a9d6c6",
        "colab": {
          "base_uri": "https://localhost:8080/",
          "height": 51
        }
      },
      "cell_type": "code",
      "source": [
        "import emoji\n",
        "print(emoji.emojize('Merry Christmas! :Christmas_tree:'))\n",
        "# same as using unicode emoji character\n",
        "print('Merry Christmas! \\U0001F384')"
      ],
      "execution_count": 27,
      "outputs": [
        {
          "output_type": "stream",
          "text": [
            "Merry Christmas! 🎄\n",
            "Merry Christmas! 🎄\n"
          ],
          "name": "stdout"
        }
      ]
    },
    {
      "metadata": {
        "id": "erb2Uvac-iXV",
        "colab_type": "text"
      },
      "cell_type": "markdown",
      "source": [
        "Let's dowload Kaggle '[Christmas Tweets](https://www.kaggle.com/dhruvm/christmastwitterdata)' dataset (preprocessed from [here](https://)). The 'Metadata' column contains tweets in html format, so we need to parse the file to extract text and emoji."
      ]
    },
    {
      "metadata": {
        "id": "62UelsO4-el6",
        "colab_type": "code",
        "colab": {}
      },
      "cell_type": "code",
      "source": [
        "import pandas as pd\n",
        "filename='https://github.com/avalerie/nlp/raw/master/Data/HolidayTweets.zip'\n",
        "df = pd.read_csv(filename, sep=',')"
      ],
      "execution_count": 0,
      "outputs": []
    },
    {
      "metadata": {
        "id": "VJ_r8SkpA17q",
        "colab_type": "code",
        "colab": {
          "base_uri": "https://localhost:8080/",
          "height": 136
        },
        "outputId": "728732b2-bf97-4c5d-f168-3d14d120127c"
      },
      "cell_type": "code",
      "source": [
        "print(df.head())\n",
        "print(df.shape)"
      ],
      "execution_count": 39,
      "outputs": [
        {
          "output_type": "stream",
          "text": [
            "   Unnamed: 0           ID                                           Metadata\n",
            "0           1  8.12192E+17  <p class=\"TweetTextSize  js-tweet-text tweet-t...\n",
            "1           2  8.12192E+17  <p class=\"TweetTextSize  js-tweet-text tweet-t...\n",
            "2           3  8.12192E+17  <p class=\"TweetTextSize  js-tweet-text tweet-t...\n",
            "3           4  8.12192E+17  <p class=\"TweetTextSize  js-tweet-text tweet-t...\n",
            "4           5  8.12192E+17  <p class=\"TweetTextSize  js-tweet-text tweet-t...\n",
            "(42871, 3)\n"
          ],
          "name": "stdout"
        }
      ]
    },
    {
      "metadata": {
        "id": "fvwy39ndBOLX",
        "colab_type": "code",
        "colab": {
          "base_uri": "https://localhost:8080/",
          "height": 408
        },
        "outputId": "abbdccea-12be-40b3-82d7-0fc5283e75b8"
      },
      "cell_type": "code",
      "source": [
        "from bs4 import BeautifulSoup as bf\n",
        "import pprint\n",
        "# Use pprint or BeautifulSoup.prettify() to print html\n",
        "pprint.pprint(df.loc[0][2])"
      ],
      "execution_count": 46,
      "outputs": [
        {
          "output_type": "stream",
          "text": [
            "('<p class=\"TweetTextSize  js-tweet-text tweet-text\" lang=\"en\" '\n",
            " 'data-aria-label-part=\"0\">A <a href=\"/hashtag/ShoutOut?src=hash\" '\n",
            " 'data-query-source=\"hashtag_click\" class=\"twitter-hashtag pretty-link js-nav\" '\n",
            " 'dir=\"ltr\"><s>#</s><b>ShoutOut</b></a> for all the Customer Service staff '\n",
            " 'that make <span class=\"twitter-hashflag-container\"><a '\n",
            " 'href=\"/hashtag/Christmas?src=hash\" data-query-source=\"hashtag_click\" '\n",
            " 'class=\"twitter-hashtag pretty-link js-nav\" '\n",
            " 'dir=\"ltr\"><s>#</s><b><strong>Christmas</strong></b></a><a '\n",
            " 'href=\"/hashtag/Christmas?src=hash\" dir=\"ltr\"><img class=\"twitter-hashflag\" '\n",
            " 'src=\"https://abs.twimg.com/hashflags/Christmas_Emoji/Christmas_Emoji.png\" '\n",
            " 'draggable=\"false\" alt=\"\"></a></span> possible! <a '\n",
            " 'href=\"/hashtag/WhoIsYourSanta?src=hash\" data-query-source=\"hashtag_click\" '\n",
            " 'class=\"twitter-hashtag pretty-link js-nav\" '\n",
            " 'dir=\"ltr\"><s>#</s><b>WhoIsYourSanta</b></a> <a '\n",
            " 'href=\"https://t.co/uvzHdbiaeg\" rel=\"nofollow noopener\" dir=\"ltr\" '\n",
            " 'data-expanded-url=\"http://ow.ly/XjZB306YiY0\" class=\"twitter-timeline-link\" '\n",
            " 'target=\"_blank\" title=\"http://ow.ly/XjZB306YiY0\"><span '\n",
            " 'class=\"tco-ellipsis\"></span><span class=\"invisible\">http://</span><span '\n",
            " 'class=\"js-display-url\">ow.ly/XjZB306YiY0</span><span '\n",
            " 'class=\"invisible\"></span><span class=\"tco-ellipsis\"><span '\n",
            " 'class=\"invisible\">&nbsp;</span></span></a><a href=\"https://t.co/UYO9eMxrCv\" '\n",
            " 'class=\"twitter-timeline-link u-hidden\" data-pre-embedded=\"true\" '\n",
            " 'dir=\"ltr\">pic.twitter.com/UYO9eMxrCv</a></p>\\r\\n')\n"
          ],
          "name": "stdout"
        }
      ]
    },
    {
      "metadata": {
        "id": "gAlbfHTQCCXx",
        "colab_type": "code",
        "colab": {}
      },
      "cell_type": "code",
      "source": [
        "# initiate BeautifulSoup instance \n",
        "soup=bf(df.loc[0][2])\n",
        "print(soup.prettify())"
      ],
      "execution_count": 0,
      "outputs": []
    },
    {
      "metadata": {
        "id": "ppqSuNS4C3Pu",
        "colab_type": "code",
        "colab": {}
      },
      "cell_type": "code",
      "source": [
        ""
      ],
      "execution_count": 0,
      "outputs": []
    }
  ]
}