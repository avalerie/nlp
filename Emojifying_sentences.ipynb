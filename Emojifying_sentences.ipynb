{
  "nbformat": 4,
  "nbformat_minor": 0,
  "metadata": {
    "colab": {
      "name": "Emojifying sentences.ipynb",
      "version": "0.3.2",
      "provenance": [],
      "collapsed_sections": [],
      "include_colab_link": true
    },
    "kernelspec": {
      "display_name": "Python 3",
      "language": "python",
      "name": "python3"
    }
  },
  "cells": [
    {
      "cell_type": "markdown",
      "metadata": {
        "id": "view-in-github",
        "colab_type": "text"
      },
      "source": [
        "[View in Colaboratory](https://colab.research.google.com/github/avalerie/nlp/blob/master/Emojifying_sentences.ipynb)"
      ]
    },
    {
      "metadata": {
        "id": "k_i_emom4VYm",
        "colab_type": "text"
      },
      "cell_type": "markdown",
      "source": [
        "Emojis enhance user experience in any social media appilications. [Emoji cheat sheet](https://www.webpagefx.com/tools/emoji-cheat-sheet/) includes emojies categories like People, Nature, Objects, Places and Symbols."
      ]
    },
    {
      "metadata": {
        "id": "Yl1zm6nY4LZQ",
        "colab_type": "code",
        "colab": {}
      },
      "cell_type": "code",
      "source": [
        "!pip install emoji"
      ],
      "execution_count": 0,
      "outputs": []
    },
    {
      "metadata": {
        "id": "04WqqlIi8at2",
        "colab_type": "code",
        "colab": {
          "base_uri": "https://localhost:8080/",
          "height": 35
        },
        "outputId": "2e208cd2-71c9-4c3c-a72d-0d17c2a6e3f9"
      },
      "cell_type": "code",
      "source": [
        "import emoji\n",
        "print(emoji.emojize('I love Colab! :heart_eyes:'))"
      ],
      "execution_count": 3,
      "outputs": [
        {
          "output_type": "stream",
          "text": [
            "I love Colab! :heart_eyes:\n"
          ],
          "name": "stdout"
        }
      ]
    }
  ]
}