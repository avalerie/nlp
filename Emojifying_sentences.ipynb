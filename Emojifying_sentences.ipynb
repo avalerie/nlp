{
  "nbformat": 4,
  "nbformat_minor": 0,
  "metadata": {
    "colab": {
      "name": "Emojifying sentences.ipynb",
      "version": "0.3.2",
      "provenance": [],
      "collapsed_sections": [],
      "include_colab_link": true
    },
    "kernelspec": {
      "display_name": "Python 3",
      "language": "python",
      "name": "python3"
    }
  },
  "cells": [
    {
      "cell_type": "markdown",
      "metadata": {
        "id": "view-in-github",
        "colab_type": "text"
      },
      "source": [
        "[View in Colaboratory](https://colab.research.google.com/github/avalerie/nlp/blob/master/Emojifying_sentences.ipynb)"
      ]
    },
    {
      "metadata": {
        "id": "k_i_emom4VYm",
        "colab_type": "text"
      },
      "cell_type": "markdown",
      "source": [
        "Emojis enhance user experience in any social media appilications. [Emoji cheat sheet](https://www.webpagefx.com/tools/emoji-cheat-sheet/) includes emojies categories like People, Nature, Objects, Places and Symbols.\n",
        "\n",
        "To find how emoji looks across different devices (Android, Twitter and so on) check the [Emoji Unicode table](https://apps.timwhitlock.info/emoji/tables/unicode).\n",
        "\n",
        "Python library *[emoji](https://github.com/carpedm20/emoji/blob/master/emoji/unicode_codes.py)* allows to print unicode emoji character. "
      ]
    },
    {
      "metadata": {
        "id": "Yl1zm6nY4LZQ",
        "colab_type": "code",
        "colab": {}
      },
      "cell_type": "code",
      "source": [
        "!pip install emoji"
      ],
      "execution_count": 0,
      "outputs": []
    },
    {
      "metadata": {
        "id": "04WqqlIi8at2",
        "colab_type": "code",
        "outputId": "d4f1ac75-66f3-4d62-b4c4-388c41a9d6c6",
        "colab": {
          "base_uri": "https://localhost:8080/",
          "height": 52
        }
      },
      "cell_type": "code",
      "source": [
        "import emoji\n",
        "print(emoji.emojize('Merry Christmas! :Christmas_tree:'))\n",
        "# same as using unicode emoji character\n",
        "print('Merry Christmas! \\U0001F384')"
      ],
      "execution_count": 27,
      "outputs": [
        {
          "output_type": "stream",
          "text": [
            "Merry Christmas! 🎄\n",
            "Merry Christmas! 🎄\n"
          ],
          "name": "stdout"
        }
      ]
    }
  ]
}